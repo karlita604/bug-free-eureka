{
  "nbformat": 4,
  "nbformat_minor": 0,
  "metadata": {
    "colab": {
      "name": "FinalProjectCode-873.ipynb",
      "provenance": [],
      "collapsed_sections": [],
      "authorship_tag": "ABX9TyM+emPwmnxZu+RwMa6eY1/m",
      "include_colab_link": true
    },
    "kernelspec": {
      "name": "python3",
      "display_name": "Python 3"
    },
    "language_info": {
      "name": "python"
    },
    "accelerator": "TPU"
  },
  "cells": [
    {
      "cell_type": "markdown",
      "metadata": {
        "id": "view-in-github",
        "colab_type": "text"
      },
      "source": [
        "<a href=\"https://colab.research.google.com/github/karlita604/bug-free-eureka/blob/main/FinalProjectCode_873.ipynb\" target=\"_parent\"><img src=\"https://colab.research.google.com/assets/colab-badge.svg\" alt=\"Open In Colab\"/></a>"
      ]
    },
    {
      "cell_type": "code",
      "source": [
        "!pip install matplotlib-venn\n",
        "!pip install TenSEAL"
      ],
      "metadata": {
        "id": "ePzB3XEB7s2D"
      },
      "execution_count": null,
      "outputs": []
    },
    {
      "cell_type": "markdown",
      "source": [
        "# ⚡⚡⚡⚡⚡⚡⚡⚡⚡⚡⚡⚡⚡⚡⚡⚡⚡⚡⚡⚡⚡⚡ \n",
        "#Part 1: Vanilla Implementation (from scratch) \n",
        "#⚡⚡⚡⚡⚡⚡⚡⚡⚡⚡⚡⚡⚡⚡⚡⚡⚡⚡⚡⚡⚡⚡"
      ],
      "metadata": {
        "id": "l6ccTonbqzJX"
      }
    },
    {
      "cell_type": "markdown",
      "source": [
        "# BFV Implementation from Scratch"
      ],
      "metadata": {
        "id": "oTyk-0-IpBSQ"
      }
    },
    {
      "cell_type": "code",
      "source": [
        "import numpy as np\n",
        "from numpy.polynomial import polynomial as poly\n",
        "\n",
        "def polymul(x, y, modulus, poly_mod):\n",
        "    return np.int64(\n",
        "        np.round(poly.polydiv(poly.polymul(x, y) % modulus, poly_mod)[1] % modulus)\n",
        "    )\n",
        "\n",
        "def polyadd(x, y, modulus, poly_mod):\n",
        "    return np.int64(\n",
        "        np.round(poly.polydiv(poly.polyadd(x, y) % modulus, poly_mod)[1] % modulus)\n",
        "    )\n",
        "\n",
        "def gen_binary_poly(size):\n",
        "    return np.random.randint(0, 2, size, dtype=np.int64)\n",
        "\n",
        "def gen_uniform_poly(size, modulus):\n",
        "    return np.random.randint(0, modulus, size, dtype=np.int64)\n",
        "\n",
        "def gen_normal_poly(size):\n",
        "    return np.int64(np.random.normal(0, 2, size=size))\n",
        "\n",
        "def keygen(size, modulus, poly_mod):\n",
        "    sk = gen_binary_poly(size)\n",
        "    a = gen_uniform_poly(size, modulus)\n",
        "    e = gen_normal_poly(size)\n",
        "    b = polyadd(polymul(-a, sk, modulus, poly_mod), -e, modulus, poly_mod)\n",
        "    return (b, a), sk"
      ],
      "metadata": {
        "id": "yhjQDFRUl0F1"
      },
      "execution_count": 26,
      "outputs": []
    },
    {
      "cell_type": "code",
      "source": [
        "\"\"\" Ecryption \"\"\"\n",
        "def encrypt(pk, size, q, t, poly_mod, pt):\n",
        "    # encode the integer into a plaintext polynomial\n",
        "    m = np.array([pt] + [0] * (size - 1), dtype=np.int64) % t\n",
        "    delta = q // t\n",
        "    scaled_m = delta * m  % q\n",
        "    e1 = gen_normal_poly(size)\n",
        "    e2 = gen_normal_poly(size)\n",
        "    u = gen_binary_poly(size)\n",
        "    ct0 = polyadd(\n",
        "            polyadd(\n",
        "                polymul(pk[0], u, q, poly_mod),\n",
        "                e1, q, poly_mod),\n",
        "            scaled_m, q, poly_mod\n",
        "        )\n",
        "    ct1 = polyadd(\n",
        "            polymul(pk[1], u, q, poly_mod),\n",
        "            e2, q, poly_mod\n",
        "        )\n",
        "    return (ct0, ct1)"
      ],
      "metadata": {
        "id": "jINxwES5pTVT"
      },
      "execution_count": 27,
      "outputs": []
    },
    {
      "cell_type": "code",
      "source": [
        "\"\"\"Decryption\"\"\"\n",
        "def d(sk, size, q, t, poly_mod, ct):\n",
        "    scaled_pt = polyadd(\n",
        "            polymul(ct[1], sk, q, poly_mod),\n",
        "            ct[0], q, poly_mod\n",
        "        )\n",
        "    decrypted_poly = np.round(scaled_pt * t / q) % t\n",
        "    return int(decrypted_poly[0])"
      ],
      "metadata": {
        "id": "2XAgfuqqpX3K"
      },
      "execution_count": 28,
      "outputs": []
    },
    {
      "cell_type": "code",
      "source": [
        "\"\"\"Addition and Multiplication Method Implementation\"\"\"\n",
        "def add_plain(ct, pt, q, t, poly_mod):\n",
        "    size = len(poly_mod) - 1\n",
        "    # encode the integer into a plaintext polynomial\n",
        "    m = np.array([pt] + [0] * (size - 1), dtype=np.int64) % t\n",
        "    delta = q // t\n",
        "    scaled_m = delta * m  % q\n",
        "    new_ct0 = polyadd(ct[0], scaled_m, q, poly_mod)\n",
        "    return (new_ct0, ct[1])\n",
        "\n",
        "def mul_plain(ct, pt, q, t, poly_mod):\n",
        "    size = len(poly_mod) - 1\n",
        "    # encode the integer into a plaintext polynomial\n",
        "    m = np.array([pt] + [0] * (size - 1), dtype=np.int64) % t\n",
        "    new_c0 = polymul(ct[0], m, q, poly_mod)\n",
        "    new_c1 = polymul(ct[1], m, q, poly_mod)\n",
        "    return (new_c0, new_c1)"
      ],
      "metadata": {
        "id": "MFUH_D7xpoEQ"
      },
      "execution_count": 29,
      "outputs": []
    },
    {
      "cell_type": "markdown",
      "source": [
        "# CKKS Implementation from Scratch\n"
      ],
      "metadata": {
        "id": "XrZHHiVak2Zo"
      }
    },
    {
      "cell_type": "code",
      "source": [
        "import numpy as np\n",
        "M = 8\n",
        "N = M //2\n",
        "xi = np.exp(2 * np.pi * 1j / M)\n",
        "xi"
      ],
      "metadata": {
        "colab": {
          "base_uri": "https://localhost:8080/"
        },
        "id": "qK7icUfuk_tp",
        "outputId": "01224393-b4fd-41f3-e29b-0906fa6ace8d"
      },
      "execution_count": 30,
      "outputs": [
        {
          "output_type": "execute_result",
          "data": {
            "text/plain": [
              "(0.7071067811865476+0.7071067811865475j)"
            ]
          },
          "metadata": {},
          "execution_count": 30
        }
      ]
    },
    {
      "cell_type": "code",
      "source": [
        "from numpy.polynomial import Polynomial\n",
        "\n",
        "class CKKSEncoder:\n",
        "    \"\"\"Basic CKKS encoder to encode complex vectors into polynomials.\"\"\"\n",
        "    \n",
        "    def __init__(self, M: int):\n",
        "        self.xi = np.exp(2 * np.pi * 1j / M)\n",
        "        self.M = M\n",
        "        \n",
        "    @staticmethod\n",
        "    def vandermonde(xi: np.complex128, M: int) -> np.array:\n",
        "        N = M //2\n",
        "        matrix = []\n",
        "        # We will generate each row of the matrix\n",
        "        for i in range(N):\n",
        "            # For each row we select a different root\n",
        "            root = xi ** (2 * i + 1)\n",
        "            row = []\n",
        "\n",
        "            # Then we store its powers\n",
        "            for j in range(N):\n",
        "                row.append(root ** j)\n",
        "            matrix.append(row)\n",
        "        return matrix\n",
        "\n",
        "    def sigma(self, p: Polynomial) -> np.array:\n",
        "        outputs = []\n",
        "        N = self.M //2\n",
        "\n",
        "        # We simply apply the polynomial on the roots\n",
        "        for i in range(N):\n",
        "            root = self.xi ** (2 * i + 1)\n",
        "            output = p(root)\n",
        "            outputs.append(output)\n",
        "        return np.array(outputs)"
      ],
      "metadata": {
        "id": "a3NL_ViDlJUZ"
      },
      "execution_count": 31,
      "outputs": []
    },
    {
      "cell_type": "code",
      "source": [
        "\"\"\" Initialize Encoder and vector\"\"\"\n",
        "encoder = CKKSEncoder(M)\n",
        "b = np.array([1, 2, 3, 4])\n",
        "b\n"
      ],
      "metadata": {
        "colab": {
          "base_uri": "https://localhost:8080/"
        },
        "id": "4zLxKOn2lNCA",
        "outputId": "21a6d72b-ad73-4f5c-fd7a-494f725cf080"
      },
      "execution_count": 32,
      "outputs": [
        {
          "output_type": "execute_result",
          "data": {
            "text/plain": [
              "array([1, 2, 3, 4])"
            ]
          },
          "metadata": {},
          "execution_count": 32
        }
      ]
    },
    {
      "cell_type": "code",
      "source": [
        "\"\"\"Reconstruct the vector\"\"\"\n",
        "b_reconstructed = encoder.sigma(p)\n",
        "b_reconstructed\n"
      ],
      "metadata": {
        "colab": {
          "base_uri": "https://localhost:8080/"
        },
        "id": "ee1WHTBGxgEG",
        "outputId": "e8a18698-1414-4821-c884-8b70c3482124"
      },
      "execution_count": 33,
      "outputs": [
        {
          "output_type": "execute_result",
          "data": {
            "text/plain": [
              "array([1.-1.11022302e-16j, 2.-4.71844785e-16j, 3.+2.77555756e-17j,\n",
              "       4.+2.22044605e-16j])"
            ]
          },
          "metadata": {},
          "execution_count": 33
        }
      ]
    },
    {
      "cell_type": "code",
      "source": [
        "\n",
        "\"\"\" Note the difference between the vectors\"\"\"\n",
        "np.linalg.norm(b_reconstructed - b)"
      ],
      "metadata": {
        "colab": {
          "base_uri": "https://localhost:8080/"
        },
        "id": "eDx54ZpYxhFX",
        "outputId": "716ef42c-9d93-465e-cb14-0e0babf956fb"
      },
      "execution_count": 34,
      "outputs": [
        {
          "output_type": "execute_result",
          "data": {
            "text/plain": [
              "6.944442800358888e-16"
            ]
          },
          "metadata": {},
          "execution_count": 34
        }
      ]
    },
    {
      "cell_type": "markdown",
      "source": [
        "# CKKS TenSEAL Context"
      ],
      "metadata": {
        "id": "gqcA2DgknNN2"
      }
    },
    {
      "cell_type": "code",
      "source": [
        "import torch\n",
        "from torchvision import transforms\n",
        "from random import randint\n",
        "import pickle\n",
        "from PIL import Image\n",
        "import numpy as np\n",
        "from matplotlib.pyplot import imshow\n",
        "from typing import Dict\n",
        "\n",
        "import tenseal as ts"
      ],
      "metadata": {
        "id": "Ko3Yti1qnQ6X"
      },
      "execution_count": 35,
      "outputs": []
    },
    {
      "cell_type": "code",
      "source": [
        "def context():\n",
        "    context = ts.context(ts.SCHEME_TYPE.CKKS, 8192, coeff_mod_bit_sizes=[60, 40, 40, 60])\n",
        "    context.global_scale = pow(2, 40)\n",
        "    context.generate_galois_keys()\n",
        "    return context\n",
        "\n",
        "context = context()"
      ],
      "metadata": {
        "id": "dyDtqqy3nVDm"
      },
      "execution_count": 36,
      "outputs": []
    },
    {
      "cell_type": "code",
      "source": [
        "plain1 = ts.plain_tensor([1,2,3,4], [2,2])\n",
        "\n",
        "print(\" First tensor: Shape = {} Data = {}\".format(plain1.shape, plain1.tolist()))\n",
        "\n",
        "plain2 = ts.plain_tensor(np.array([5,6,7,8]).reshape(2,2))\n",
        "print(\" Second tensor: Shape = {} Data = {}\".format(plain2.shape, plain2.tolist()))"
      ],
      "metadata": {
        "colab": {
          "base_uri": "https://localhost:8080/"
        },
        "id": "XXSTj0AZnXnI",
        "outputId": "3747787c-ce5a-4009-ca29-f7f347b7ad63"
      },
      "execution_count": 37,
      "outputs": [
        {
          "output_type": "stream",
          "name": "stdout",
          "text": [
            " First tensor: Shape = [2, 2] Data = [[1.0, 2.0], [3.0, 4.0]]\n",
            " Second tensor: Shape = [2, 2] Data = [[5.0, 6.0], [7.0, 8.0]]\n"
          ]
        }
      ]
    },
    {
      "cell_type": "code",
      "source": [
        "encrypted_tensor1 = ts.ckks_tensor(context, plain1)\n",
        "encrypted_tensor2 = ts.ckks_tensor(context, plain2)\n",
        "\n",
        "print(\" Shape = {}\".format(encrypted_tensor1.shape))\n",
        "print(\" Encrypted Data = {}.\".format(encrypted_tensor1))\n",
        "\n",
        "\n",
        "encrypted_tensor_from_np = ts.ckks_tensor(context, np.array([5,6,7,8]).reshape([2,2]))\n",
        "print(\" Shape = {}\".format(encrypted_tensor_from_np.shape))"
      ],
      "metadata": {
        "colab": {
          "base_uri": "https://localhost:8080/"
        },
        "id": "_n5hujT4nh3A",
        "outputId": "ffb40398-137e-4fe2-b2d9-7a5f06a384bb"
      },
      "execution_count": 38,
      "outputs": [
        {
          "output_type": "stream",
          "name": "stdout",
          "text": [
            " Shape = [2, 2]\n",
            " Encrypted Data = <tenseal.tensors.ckkstensor.CKKSTensor object at 0x7f4768ecf2d0>.\n",
            " Shape = [2, 2]\n"
          ]
        }
      ]
    },
    {
      "cell_type": "code",
      "source": [
        "def decrypt(enc):\n",
        "    return enc.decrypt().tolist()"
      ],
      "metadata": {
        "id": "0raKNc06nj9v"
      },
      "execution_count": 39,
      "outputs": []
    },
    {
      "cell_type": "markdown",
      "source": [
        "# ⚡⚡⚡⚡⚡⚡⚡⚡⚡⚡⚡⚡⚡⚡⚡⚡⚡⚡⚡⚡⚡⚡ \n",
        "# Part 2: Evaluation \n",
        "#⚡⚡⚡⚡⚡⚡⚡⚡⚡⚡⚡⚡⚡⚡⚡⚡⚡⚡⚡⚡⚡⚡"
      ],
      "metadata": {
        "id": "wv8v5nsAqm4X"
      }
    },
    {
      "cell_type": "markdown",
      "source": [
        "# BVF Evaluation [ Home-made and TENSEAL]"
      ],
      "metadata": {
        "id": "EEW4AGxpl_VH"
      }
    },
    {
      "cell_type": "code",
      "source": [
        "# CKKS Evaluation [ Home-made and TENSEAL]\n",
        "n = 2**4\n",
        "q = 2**15\n",
        "t = 2**8\n",
        "# polynomial modulus\n",
        "poly_mod = np.array([1] + [0] * (n - 1) + [1])\n",
        "# Keygen\n",
        "pk, sk = keygen(n, q, poly_mod)\n",
        "# Encryption\n",
        "pt1, pt2 = 73, 20\n",
        "cst1, cst2 = 7, 5\n",
        "ct1 = encrypt(pk, n, q, t, poly_mod, pt1)\n",
        "ct2 = encrypt(pk, n, q, t, poly_mod, pt2)\n",
        "\n",
        "print(\"[+] Ciphertext ct1({}):\".format(pt1))\n",
        "print(\"\")\n",
        "print(\"\\t ct1_0:\", ct1[0])\n",
        "print(\"\\t ct1_1:\", ct1[1])\n",
        "print(\"\")\n",
        "print(\"[+] Ciphertext ct2({}):\".format(pt2))\n",
        "print(\"\")\n",
        "print(\"\\t ct1_0:\", ct2[0])\n",
        "print(\"\\t ct1_1:\", ct2[1])\n",
        "print(\"\")\n",
        "\n",
        "\"\"\" Multiplication and Addition Evaluation\"\"\"\n",
        "ct3 = add_plain(ct1, cst1, q, t, poly_mod)\n",
        "ct4 = mul_plain(ct2, cst2, q, t, poly_mod)\n",
        "\n",
        "# Decryption\n",
        "decrypted_ct3 = d(sk, n, q, t, poly_mod, ct3)\n",
        "decrypted_ct4 = d(sk, n, q, t, poly_mod, ct4)\n",
        "\n",
        "print(\"[+] Decrypted ct3(ct1 + {}): {}\".format(cst1, decrypted_ct3))\n",
        "print(\"[+] Decrypted ct4(ct2 * {}): {}\".format(cst2, decrypted_ct4))\n"
      ],
      "metadata": {
        "colab": {
          "base_uri": "https://localhost:8080/"
        },
        "id": "sdWlNgWnl95R",
        "outputId": "e5686c05-404f-41e7-9c83-bde75917be3e"
      },
      "execution_count": 40,
      "outputs": [
        {
          "output_type": "stream",
          "name": "stdout",
          "text": [
            "[+] Ciphertext ct1(73):\n",
            "\n",
            "\t ct1_0: [30219 14239 15069 16754 23025 12129 26737 17132 29718 22152  8671 23495\n",
            " 14279  2816 15417 10086]\n",
            "\t ct1_1: [21553  3204 26904 27308  7369 13728 16140  7190  5289  4868 18195 23296\n",
            " 27071  4646 19890 23712]\n",
            "\n",
            "[+] Ciphertext ct2(20):\n",
            "\n",
            "\t ct1_0: [ 4142 26810 21868 28146   618 29032 27144 20479 30423  8273 26788 11631\n",
            " 12404 23367 18345 10014]\n",
            "\t ct1_1: [31884  8878  9925  3458  7405 20228 13540 11718 10538   294  1391 14337\n",
            "  8650 14537 15663 24717]\n",
            "\n",
            "[+] Decrypted ct3(ct1 + 7): 80\n",
            "[+] Decrypted ct4(ct2 * 5): 100\n"
          ]
        }
      ]
    },
    {
      "cell_type": "markdown",
      "source": [
        "# CKKS Evaluation [ CKKS_scratch and TENSEAL]\n"
      ],
      "metadata": {
        "id": "9vD3aURrl4CB"
      }
    },
    {
      "cell_type": "markdown",
      "source": [
        "# CKKS_SCRATCH\n",
        "\"\"\"Addition Evalutaion\"\"\"\n",
        "m1 = np.array([1, 2, 3, 4])\n",
        "m2 = np.array([1, -2, 3, -4])\n",
        "\n",
        "p1 = encoder.sigma_inverse(m1)\n",
        "p2 = encoder.sigma_inverse(m2)\n",
        "\n",
        "p_add = p1 + p2\n",
        "p_add\n",
        "\n",
        "#decode\n",
        "encoder.sigma(p_add)\n",
        "\n",
        "\"\"\"Subtraction Evalutaion\"\"\"\n",
        "p_sub = p1 - p2\n",
        "p_sub"
      ],
      "metadata": {
        "id": "7DwnVhy2l2vK"
      }
    },
    {
      "cell_type": "code",
      "source": [
        "# CKKS_SCRATCH\n",
        "\"\"\"Multiplication Evalutaion\"\"\"\n",
        "poly_modulo = Polynomial([1,0,0,0,1])\n",
        "poly_modulo\n",
        "p_mult = p1 * p2 % poly_modulo\n",
        "\n",
        "# decode\n",
        "encoder.sigma(p_mult)"
      ],
      "metadata": {
        "colab": {
          "base_uri": "https://localhost:8080/"
        },
        "id": "4eOnpUhTmmzr",
        "outputId": "6c53387e-c176-4116-94b2-d3227011da51"
      },
      "execution_count": 42,
      "outputs": [
        {
          "output_type": "execute_result",
          "data": {
            "text/plain": [
              "array([  1.-8.67361738e-16j,  -4.+6.86950496e-16j,   9.+6.86950496e-16j,\n",
              "       -16.-9.08301212e-15j])"
            ]
          },
          "metadata": {},
          "execution_count": 42
        }
      ]
    },
    {
      "cell_type": "code",
      "source": [
        "# CKKS TenSEAL\n",
        "\n",
        "\"\"\"Addition of encrypted tensors\"\"\"\n",
        "result = encrypted_tensor1 + encrypted_tensor2\n",
        "print(\"Plain equivalent: {} + {}\\nDecrypted result: {}.\".format(plain1.tolist(), plain2.tolist(), decrypt(result)))\n",
        "\n",
        "\"\"\"Subtraction of encrypted tensors\"\"\"\n",
        "result = encrypted_tensor1 - encrypted_tensor2\n",
        "print(\"Plain equivalent: {} - {}\\nDecrypted result: {}.\".format(plain1.tolist(), plain2.tolist(), decrypt(result)))"
      ],
      "metadata": {
        "colab": {
          "base_uri": "https://localhost:8080/"
        },
        "id": "edjY1F4vnrFy",
        "outputId": "38c4579c-333e-4fb2-b7ed-2e346b626187"
      },
      "execution_count": 43,
      "outputs": [
        {
          "output_type": "stream",
          "name": "stdout",
          "text": [
            "Plain equivalent: [[1.0, 2.0], [3.0, 4.0]] + [[5.0, 6.0], [7.0, 8.0]]\n",
            "Decrypted result: [[6.000000001444382, 7.999999999818779], [9.9999999987026, 11.999999999834943]].\n",
            "Plain equivalent: [[1.0, 2.0], [3.0, 4.0]] - [[5.0, 6.0], [7.0, 8.0]]\n",
            "Decrypted result: [[-3.999999999760591, -3.9999999992266684], [-3.999999999834329, -4.000000001944618]].\n"
          ]
        }
      ]
    },
    {
      "cell_type": "code",
      "source": [
        "\"\"\"Multiplication of plain and encrypted tensors\"\"\"\n",
        "result = encrypted_tensor1 * encrypted_tensor2\n",
        "print(\"Plain equivalent: {} * {}\\nDecrypted result: {}.\".format(plain1.tolist(), plain2.tolist(), decrypt(result)))\n",
        "\n",
        "plain = ts.plain_tensor([5,6,7,8], [2,2])\n",
        "result = encrypted_tensor1 * plain\n",
        "\n",
        "print(\"Plain equivalent: {} * {}\\nDecrypted result: {}.\".format(plain1.tolist(), plain.tolist(), decrypt(result)))\n",
        "\n",
        "\"\"\"Polynomial Evaluation\"\"\"\n",
        "result = encrypted_tensor1.polyval([1,0,1,1])\n",
        "\n",
        "print(\"X = {}\".format(plain1.tolist()))\n",
        "print(\"1 + X^2 + X^3 = {}.\".format(decrypt(result)))"
      ],
      "metadata": {
        "colab": {
          "base_uri": "https://localhost:8080/"
        },
        "id": "pAcXaWJqoRBr",
        "outputId": "2ec26c41-da47-4f40-ae6e-4dc9f7259303"
      },
      "execution_count": 44,
      "outputs": [
        {
          "output_type": "stream",
          "name": "stdout",
          "text": [
            "Plain equivalent: [[1.0, 2.0], [3.0, 4.0]] * [[5.0, 6.0], [7.0, 8.0]]\n",
            "Decrypted result: [[5.000000676609063, 12.000001610387654], [21.000002810978156, 32.00000428645409]].\n",
            "Plain equivalent: [[1.0, 2.0], [3.0, 4.0]] * [[5.0, 6.0], [7.0, 8.0]]\n",
            "Decrypted result: [[5.0000006748096455, 12.000001610332346], [21.000002811972283, 32.00000428228]].\n",
            "X = [[1.0, 2.0], [3.0, 4.0]]\n",
            "1 + X^2 + X^3 = [[3.0000009438499586, 13.000006981623715], [37.0000229138537, 81.00005358309716]].\n"
          ]
        }
      ]
    },
    {
      "cell_type": "markdown",
      "source": [
        "\n",
        "# ⚡⚡⚡⚡⚡⚡⚡⚡⚡⚡⚡⚡⚡⚡⚡⚡⚡⚡⚡⚡⚡⚡ \n",
        "# Part 3: Encrypted Convolution on MNIST\n",
        "#⚡⚡⚡⚡⚡⚡⚡⚡⚡⚡⚡⚡⚡⚡⚡⚡⚡⚡⚡⚡⚡⚡"
      ],
      "metadata": {
        "id": "iA8CaYHIkvxZ"
      }
    },
    {
      "cell_type": "code",
      "source": [
        "import torch\n",
        "from torchvision import datasets\n",
        "import torchvision.transforms as transforms\n",
        "import numpy as np\n",
        "\n",
        "torch.manual_seed(73)\n",
        "batch_size = 64\n",
        "\n",
        "train_data = datasets.MNIST('data', train=True, download=True, transform=transforms.ToTensor())\n",
        "test_data = datasets.MNIST('data', train=False, download=True, transform=transforms.ToTensor())"
      ],
      "metadata": {
        "id": "bj1zbD9B6Srw"
      },
      "execution_count": 45,
      "outputs": []
    },
    {
      "cell_type": "markdown",
      "source": [
        "Training"
      ],
      "metadata": {
        "id": "IK1cj6pl6gXf"
      }
    },
    {
      "cell_type": "code",
      "execution_count": 46,
      "metadata": {
        "id": "lWK2EYkG6Irx",
        "colab": {
          "base_uri": "https://localhost:8080/"
        },
        "outputId": "3c1b2b81-a3e9-4bc4-aba5-e06ab5fd9544"
      },
      "outputs": [
        {
          "output_type": "stream",
          "name": "stdout",
          "text": [
            "Epoch: 1 \tTraining Loss: 0.397561\n",
            "Epoch: 2 \tTraining Loss: 0.130699\n",
            "Epoch: 3 \tTraining Loss: 0.088399\n",
            "Epoch: 4 \tTraining Loss: 0.071318\n",
            "Epoch: 5 \tTraining Loss: 0.058989\n",
            "Epoch: 6 \tTraining Loss: 0.050542\n",
            "Epoch: 7 \tTraining Loss: 0.044438\n",
            "Epoch: 8 \tTraining Loss: 0.038259\n",
            "Epoch: 9 \tTraining Loss: 0.034644\n",
            "Epoch: 10 \tTraining Loss: 0.030851\n"
          ]
        }
      ],
      "source": [
        "train_loader = torch.utils.data.DataLoader(train_data, batch_size=batch_size, shuffle=True)\n",
        "test_loader = torch.utils.data.DataLoader(test_data, batch_size=batch_size, shuffle=True)\n",
        "\n",
        "class ConvNet(torch.nn.Module):\n",
        "    def __init__(self, hidden=64, output=10):\n",
        "        super(ConvNet, self).__init__()        \n",
        "        self.conv1 = torch.nn.Conv2d(1, 4, kernel_size=7, padding=0, stride=3)\n",
        "        self.fc1 = torch.nn.Linear(256, hidden)\n",
        "        self.fc2 = torch.nn.Linear(hidden, output)\n",
        "\n",
        "    def forward(self, x):\n",
        "        x = self.conv1(x)\n",
        "        # the model uses the square activation function\n",
        "        x = x * x\n",
        "        # flattening while keeping the batch axis\n",
        "        x = x.view(-1, 256)\n",
        "        x = self.fc1(x)\n",
        "        x = x * x\n",
        "        x = self.fc2(x)\n",
        "        return x\n",
        "\n",
        "\n",
        "def train(model, train_loader, criterion, optimizer, n_epochs=10):\n",
        "    # model in training mode\n",
        "    model.train()\n",
        "    for epoch in range(1, n_epochs+1):\n",
        "\n",
        "        train_loss = 0.0\n",
        "        for data, target in train_loader:\n",
        "            optimizer.zero_grad()\n",
        "            output = model(data)\n",
        "            loss = criterion(output, target)\n",
        "            loss.backward()\n",
        "            optimizer.step()\n",
        "            train_loss += loss.item()\n",
        "\n",
        "        # calculate average losses\n",
        "        train_loss = train_loss / len(train_loader)\n",
        "\n",
        "        print('Epoch: {} \\tTraining Loss: {:.6f}'.format(epoch, train_loss))\n",
        "    \n",
        "    # model in evaluation mode\n",
        "    model.eval()\n",
        "    return model\n",
        "\n",
        "\n",
        "model = ConvNet()\n",
        "criterion = torch.nn.CrossEntropyLoss()\n",
        "optimizer = torch.optim.Adam(model.parameters(), lr=0.001)\n",
        "model = train(model, train_loader, criterion, optimizer, 10)"
      ]
    },
    {
      "cell_type": "markdown",
      "source": [
        "Testing\n"
      ],
      "metadata": {
        "id": "bbw96Wjw6igg"
      }
    },
    {
      "cell_type": "code",
      "source": [
        "def test(model, test_loader, criterion):\n",
        "    # initialize lists to monitor test loss and accuracy\n",
        "    test_loss = 0.0\n",
        "    class_correct = list(0. for i in range(10))\n",
        "    class_total = list(0. for i in range(10))\n",
        "\n",
        "    # model in evaluation mode\n",
        "    model.eval()\n",
        "\n",
        "    for data, target in test_loader:\n",
        "        output = model(data)\n",
        "        loss = criterion(output, target)\n",
        "        test_loss += loss.item()\n",
        "        # convert output probabilities to predicted class\n",
        "        _, pred = torch.max(output, 1)\n",
        "        # compare predictions to true label\n",
        "        correct = np.squeeze(pred.eq(target.data.view_as(pred)))\n",
        "        # calculate test accuracy for each object class\n",
        "        for i in range(len(target)):\n",
        "            label = target.data[i]\n",
        "            class_correct[label] += correct[i].item()\n",
        "            class_total[label] += 1\n",
        "\n",
        "    # calculate and print avg test loss\n",
        "    test_loss = test_loss/len(test_loader)\n",
        "    print(f'Test Loss: {test_loss:.6f}\\n')\n",
        "\n",
        "    for label in range(10):\n",
        "        print(\n",
        "            f'Test Accuracy of {label}: {int(100 * class_correct[label] / class_total[label])}% '\n",
        "            f'({int(np.sum(class_correct[label]))}/{int(np.sum(class_total[label]))})'\n",
        "        )\n",
        "\n",
        "    print(\n",
        "        f'\\nTest Accuracy (Overall): {int(100 * np.sum(class_correct) / np.sum(class_total))}% ' \n",
        "        f'({int(np.sum(class_correct))}/{int(np.sum(class_total))})'\n",
        "    )\n",
        "    \n",
        "test(model, test_loader, criterion)"
      ],
      "metadata": {
        "id": "g2LfufK-6kQW",
        "colab": {
          "base_uri": "https://localhost:8080/"
        },
        "outputId": "f40e6850-10e4-4921-e4e2-01ca24172a0c"
      },
      "execution_count": 47,
      "outputs": [
        {
          "output_type": "stream",
          "name": "stdout",
          "text": [
            "Test Loss: 0.081465\n",
            "\n",
            "Test Accuracy of 0: 98% (966/980)\n",
            "Test Accuracy of 1: 99% (1128/1135)\n",
            "Test Accuracy of 2: 97% (1011/1032)\n",
            "Test Accuracy of 3: 99% (1000/1010)\n",
            "Test Accuracy of 4: 98% (971/982)\n",
            "Test Accuracy of 5: 98% (883/892)\n",
            "Test Accuracy of 6: 97% (935/958)\n",
            "Test Accuracy of 7: 98% (1009/1028)\n",
            "Test Accuracy of 8: 97% (951/974)\n",
            "Test Accuracy of 9: 96% (971/1009)\n",
            "\n",
            "Test Accuracy (Overall): 98% (9825/10000)\n"
          ]
        }
      ]
    },
    {
      "cell_type": "markdown",
      "source": [
        "Encrypted Evaluation"
      ],
      "metadata": {
        "id": "9kscBWEQ6p3i"
      }
    },
    {
      "cell_type": "code",
      "source": [
        "\"\"\"\n",
        "It's a PyTorch-like model using operations implemented in TenSEAL.\n",
        "    - .mm() method is doing the vector-matrix multiplication explained above.\n",
        "    - you can use + operator to add a plain vector as a bias.\n",
        "    - .conv2d_im2col() method is doing a single convlution operation.\n",
        "    - .square_() just square the encrypted vector inplace.\n",
        "\"\"\"\n",
        "\n",
        "import tenseal as ts\n",
        "\n",
        "\n",
        "class EncConvNet:\n",
        "    def __init__(self, torch_nn):\n",
        "        self.conv1_weight = torch_nn.conv1.weight.data.view(\n",
        "            torch_nn.conv1.out_channels, torch_nn.conv1.kernel_size[0],\n",
        "            torch_nn.conv1.kernel_size[1]\n",
        "        ).tolist()\n",
        "        self.conv1_bias = torch_nn.conv1.bias.data.tolist()\n",
        "        \n",
        "        self.fc1_weight = torch_nn.fc1.weight.T.data.tolist()\n",
        "        self.fc1_bias = torch_nn.fc1.bias.data.tolist()\n",
        "        \n",
        "        self.fc2_weight = torch_nn.fc2.weight.T.data.tolist()\n",
        "        self.fc2_bias = torch_nn.fc2.bias.data.tolist()\n",
        "        \n",
        "        \n",
        "    def forward(self, enc_x, windows_nb):\n",
        "        # conv layer\n",
        "        enc_channels = []\n",
        "        for kernel, bias in zip(self.conv1_weight, self.conv1_bias):\n",
        "            y = enc_x.conv2d_im2col(kernel, windows_nb) + bias\n",
        "            enc_channels.append(y)\n",
        "        # pack all channels into a single flattened vector\n",
        "        enc_x = ts.CKKSVector.pack_vectors(enc_channels)\n",
        "        # square activation\n",
        "        enc_x.square_()\n",
        "        # fc1 layer\n",
        "        enc_x = enc_x.mm(self.fc1_weight) + self.fc1_bias\n",
        "        # square activation\n",
        "        enc_x.square_()\n",
        "        # fc2 layer\n",
        "        enc_x = enc_x.mm(self.fc2_weight) + self.fc2_bias\n",
        "        return enc_x\n",
        "    \n",
        "    def __call__(self, *args, **kwargs):\n",
        "        return self.forward(*args, **kwargs)"
      ],
      "metadata": {
        "id": "g1BeB-ZZ6rJu"
      },
      "execution_count": 48,
      "outputs": []
    },
    {
      "cell_type": "code",
      "source": [
        "def enc_test(context, model, test_loader, criterion, kernel_shape, stride):\n",
        "    # initialize lists to monitor test loss and accuracy\n",
        "    test_loss = 0.0\n",
        "    class_correct = list(0. for i in range(10))\n",
        "    class_total = list(0. for i in range(10))\n",
        "\n",
        "    for data, target in test_loader:\n",
        "        # Encoding and encryption\n",
        "        x_enc, windows_nb = ts.im2col_encoding(\n",
        "            context, data.view(28, 28).tolist(), kernel_shape[0],\n",
        "            kernel_shape[1], stride\n",
        "        )\n",
        "        # Encrypted evaluation\n",
        "        enc_output = enc_model(x_enc, windows_nb)\n",
        "        # Decryption of result\n",
        "        output = enc_output.decrypt()\n",
        "        output = torch.tensor(output).view(1, -1)\n",
        "\n",
        "        # compute loss\n",
        "        loss = criterion(output, target)\n",
        "        test_loss += loss.item()\n",
        "        \n",
        "        # convert output probabilities to predicted class\n",
        "        _, pred = torch.max(output, 1)\n",
        "        # compare predictions to true label\n",
        "        correct = np.squeeze(pred.eq(target.data.view_as(pred)))\n",
        "        # calculate test accuracy for each object class\n",
        "        label = target.data[0]\n",
        "        class_correct[label] += correct.item()\n",
        "        class_total[label] += 1\n",
        "\n",
        "\n",
        "    # calculate and print avg test loss\n",
        "    test_loss = test_loss / sum(class_total)\n",
        "    print(f'Test Loss: {test_loss:.6f}\\n')\n",
        "\n",
        "    for label in range(10):\n",
        "        print(\n",
        "            f'Test Accuracy of {label}: {int(100 * class_correct[label] / class_total[label])}% '\n",
        "            f'({int(np.sum(class_correct[label]))}/{int(np.sum(class_total[label]))})'\n",
        "        )\n",
        "\n",
        "    print(\n",
        "        f'\\nTest Accuracy (Overall): {int(100 * np.sum(class_correct) / np.sum(class_total))}% ' \n",
        "        f'({int(np.sum(class_correct))}/{int(np.sum(class_total))})'\n",
        "    )"
      ],
      "metadata": {
        "id": "wsucBTrR6zmJ"
      },
      "execution_count": 49,
      "outputs": []
    },
    {
      "cell_type": "code",
      "source": [
        "# Load one element at a time\n",
        "test_loader = torch.utils.data.DataLoader(test_data, batch_size=1, shuffle=True)\n",
        "# required for encoding\n",
        "kernel_shape = model.conv1.kernel_size\n",
        "stride = model.conv1.stride[0]"
      ],
      "metadata": {
        "id": "1Ve2LSzg6t9F"
      },
      "execution_count": 50,
      "outputs": []
    },
    {
      "cell_type": "code",
      "source": [
        "## Encryption Parameters\n",
        "\n",
        "# controls precision of the fractional part\n",
        "bits_scale = 26\n",
        "\n",
        "# Create TenSEAL context\n",
        "context = ts.context(\n",
        "    ts.SCHEME_TYPE.CKKS,\n",
        "    poly_modulus_degree=8192,\n",
        "    coeff_mod_bit_sizes=[31, bits_scale, bits_scale, bits_scale, bits_scale, bits_scale, bits_scale, 31]\n",
        ")\n",
        "\n",
        "# set the scale\n",
        "context.global_scale = pow(2, bits_scale)\n",
        "\n",
        "# galois keys are required to do ciphertext rotations\n",
        "context.generate_galois_keys()"
      ],
      "metadata": {
        "id": "L2nUe3Ei625J"
      },
      "execution_count": 51,
      "outputs": []
    },
    {
      "cell_type": "code",
      "source": [
        "enc_model = EncConvNet(model)"
      ],
      "metadata": {
        "id": "7H_ZXkbG65Wz"
      },
      "execution_count": 52,
      "outputs": []
    },
    {
      "cell_type": "code",
      "source": [
        "enc_test(context, enc_model, test_loader, criterion, kernel_shape, stride)"
      ],
      "metadata": {
        "id": "aWUxicrFIuuB"
      },
      "execution_count": null,
      "outputs": []
    }
  ]
}